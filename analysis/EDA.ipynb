{
 "cells": [
  {
   "cell_type": "code",
   "execution_count": 1,
   "metadata": {
    "execution": {
     "iopub.execute_input": "2020-08-22T04:11:48.321025Z",
     "iopub.status.busy": "2020-08-22T04:11:48.319963Z",
     "iopub.status.idle": "2020-08-22T04:11:51.399599Z",
     "shell.execute_reply": "2020-08-22T04:11:51.398832Z"
    },
    "papermill": {
     "duration": 3.218502,
     "end_time": "2020-08-22T04:11:51.399760",
     "exception": false,
     "start_time": "2020-08-22T04:11:48.181258",
     "status": "completed"
    },
    "tags": []
   },
   "outputs": [],
   "source": [
    "from mlphon import Syllablizer, G2P, getPhonemelist\n",
    "import pandas as pd\n",
    "import matplotlib.pyplot as plt\n",
    "import librosa\n",
    "import os"
   ]
  },
  {
   "cell_type": "code",
   "execution_count": 2,
   "metadata": {
    "execution": {
     "iopub.execute_input": "2020-08-22T04:11:51.676321Z",
     "iopub.status.busy": "2020-08-22T04:11:51.675175Z",
     "iopub.status.idle": "2020-08-22T04:11:51.718991Z",
     "shell.execute_reply": "2020-08-22T04:11:51.719542Z"
    },
    "papermill": {
     "duration": 0.185695,
     "end_time": "2020-08-22T04:11:51.719732",
     "exception": false,
     "start_time": "2020-08-22T04:11:51.534037",
     "status": "completed"
    },
    "tags": []
   },
   "outputs": [
    {
     "data": {
      "text/html": [
       "<div>\n",
       "<style scoped>\n",
       "    .dataframe tbody tr th:only-of-type {\n",
       "        vertical-align: middle;\n",
       "    }\n",
       "\n",
       "    .dataframe tbody tr th {\n",
       "        vertical-align: top;\n",
       "    }\n",
       "\n",
       "    .dataframe thead th {\n",
       "        text-align: right;\n",
       "    }\n",
       "</style>\n",
       "<table border=\"1\" class=\"dataframe\">\n",
       "  <thead>\n",
       "    <tr style=\"text-align: right;\">\n",
       "      <th></th>\n",
       "      <th>speechid</th>\n",
       "      <th>speechpath</th>\n",
       "      <th>speaker_id</th>\n",
       "      <th>review_score</th>\n",
       "      <th>transcript</th>\n",
       "      <th>category</th>\n",
       "      <th>speaker_gender</th>\n",
       "      <th>speaker_age</th>\n",
       "    </tr>\n",
       "  </thead>\n",
       "  <tbody>\n",
       "    <tr>\n",
       "      <th>0</th>\n",
       "      <td>0I2iIh7OSMdWhvb85tMp</td>\n",
       "      <td>audio/63a28877-988f-4f87-a6dd-f0d2b5c24944.webm</td>\n",
       "      <td>oeaNxrE0uxNSfoDpdrCYGBGC7uC3</td>\n",
       "      <td>42</td>\n",
       "      <td>അണ്ണാൻ മൂത്താലും മരം കേറ്റം മറക്കുമോ?</td>\n",
       "      <td>proverb</td>\n",
       "      <td>default</td>\n",
       "      <td>default</td>\n",
       "    </tr>\n",
       "    <tr>\n",
       "      <th>1</th>\n",
       "      <td>0Gbc6JQLVd6ah2P5Nz0D</td>\n",
       "      <td>audio/3f6ec7ce-e480-49ba-b53f-29990a3918e7.webm</td>\n",
       "      <td>6FzGR8AJFJSEml6AIs55fEgJmqX2</td>\n",
       "      <td>30</td>\n",
       "      <td>പാണ്ടൻ നായുടെ പല്ലിനു ശൗര്യം പണ്ടേപോല ഫലിയ്‌ക്...</td>\n",
       "      <td>proverb</td>\n",
       "      <td>default</td>\n",
       "      <td>default</td>\n",
       "    </tr>\n",
       "    <tr>\n",
       "      <th>2</th>\n",
       "      <td>0PJKVqJsCFeIHKeeIgJ5</td>\n",
       "      <td>audio/1fa2ebd9-e49f-4d73-b4d0-6c8a69a88217.webm</td>\n",
       "      <td>oeaNxrE0uxNSfoDpdrCYGBGC7uC3</td>\n",
       "      <td>29</td>\n",
       "      <td>ചങ്ങലയ്ക്കു ഭ്രാന്തു പിടിച്ചാലോ?</td>\n",
       "      <td>proverb</td>\n",
       "      <td>default</td>\n",
       "      <td>default</td>\n",
       "    </tr>\n",
       "    <tr>\n",
       "      <th>3</th>\n",
       "      <td>12T1hc6IeB0OiiiBlSIF</td>\n",
       "      <td>audio/09706980-d14c-49e6-8b98-deeb4bee1a86.webm</td>\n",
       "      <td>Y3uj7LGGFGcrklUpQDW50rwa0hL2</td>\n",
       "      <td>29</td>\n",
       "      <td>അണ്ണാൻ കുഞ്ഞും തന്നാലായത്.</td>\n",
       "      <td>proverb</td>\n",
       "      <td>Male</td>\n",
       "      <td>20-30</td>\n",
       "    </tr>\n",
       "    <tr>\n",
       "      <th>4</th>\n",
       "      <td>0WTsBT8bYyLzb9mVDkEb</td>\n",
       "      <td>audio/b1b8f56c-7f2c-437d-972e-38d0c0720a5e.webm</td>\n",
       "      <td>oeaNxrE0uxNSfoDpdrCYGBGC7uC3</td>\n",
       "      <td>26</td>\n",
       "      <td>വിത്താഴം ചെന്നാൽ പത്തായം നിറയും.</td>\n",
       "      <td>proverb</td>\n",
       "      <td>default</td>\n",
       "      <td>default</td>\n",
       "    </tr>\n",
       "  </tbody>\n",
       "</table>\n",
       "</div>"
      ],
      "text/plain": [
       "               speechid                                       speechpath  \\\n",
       "0  0I2iIh7OSMdWhvb85tMp  audio/63a28877-988f-4f87-a6dd-f0d2b5c24944.webm   \n",
       "1  0Gbc6JQLVd6ah2P5Nz0D  audio/3f6ec7ce-e480-49ba-b53f-29990a3918e7.webm   \n",
       "2  0PJKVqJsCFeIHKeeIgJ5  audio/1fa2ebd9-e49f-4d73-b4d0-6c8a69a88217.webm   \n",
       "3  12T1hc6IeB0OiiiBlSIF  audio/09706980-d14c-49e6-8b98-deeb4bee1a86.webm   \n",
       "4  0WTsBT8bYyLzb9mVDkEb  audio/b1b8f56c-7f2c-437d-972e-38d0c0720a5e.webm   \n",
       "\n",
       "                     speaker_id  review_score  \\\n",
       "0  oeaNxrE0uxNSfoDpdrCYGBGC7uC3            42   \n",
       "1  6FzGR8AJFJSEml6AIs55fEgJmqX2            30   \n",
       "2  oeaNxrE0uxNSfoDpdrCYGBGC7uC3            29   \n",
       "3  Y3uj7LGGFGcrklUpQDW50rwa0hL2            29   \n",
       "4  oeaNxrE0uxNSfoDpdrCYGBGC7uC3            26   \n",
       "\n",
       "                                          transcript category speaker_gender  \\\n",
       "0              അണ്ണാൻ മൂത്താലും മരം കേറ്റം മറക്കുമോ?  proverb        default   \n",
       "1  പാണ്ടൻ നായുടെ പല്ലിനു ശൗര്യം പണ്ടേപോല ഫലിയ്‌ക്...  proverb        default   \n",
       "2                   ചങ്ങലയ്ക്കു ഭ്രാന്തു പിടിച്ചാലോ?  proverb        default   \n",
       "3                         അണ്ണാൻ കുഞ്ഞും തന്നാലായത്.  proverb           Male   \n",
       "4                   വിത്താഴം ചെന്നാൽ പത്തായം നിറയും.  proverb        default   \n",
       "\n",
       "  speaker_age  \n",
       "0     default  \n",
       "1     default  \n",
       "2     default  \n",
       "3       20-30  \n",
       "4     default  "
      ]
     },
     "execution_count": 2,
     "metadata": {},
     "output_type": "execute_result"
    }
   ],
   "source": [
    "df = pd.read_csv(\"../metadata.tsv\", sep=\"\\t\", header=0)\n",
    "df.head()"
   ]
  },
  {
   "cell_type": "markdown",
   "metadata": {
    "papermill": {
     "duration": 0.133028,
     "end_time": "2020-08-22T04:11:51.986844",
     "exception": false,
     "start_time": "2020-08-22T04:11:51.853816",
     "status": "completed"
    },
    "tags": []
   },
   "source": [
    "### Unicode normalization and punctuation removal"
   ]
  },
  {
   "cell_type": "code",
   "execution_count": 3,
   "metadata": {
    "execution": {
     "iopub.execute_input": "2020-08-22T04:11:52.264027Z",
     "iopub.status.busy": "2020-08-22T04:11:52.263288Z",
     "iopub.status.idle": "2020-08-22T04:11:52.266609Z",
     "shell.execute_reply": "2020-08-22T04:11:52.265862Z"
    },
    "papermill": {
     "duration": 0.146219,
     "end_time": "2020-08-22T04:11:52.266741",
     "exception": false,
     "start_time": "2020-08-22T04:11:52.120522",
     "status": "completed"
    },
    "tags": []
   },
   "outputs": [],
   "source": [
    "sentence_list = df[\"transcript\"].tolist()\n",
    "normalizesubstring = [['ണ്‍', 'ൺ'], ['ന്‍', 'ൻ'], ['ര്‍', 'ർ'],['ല്‍', 'ൽ'], ['ള്‍', 'ൾ'], ['ക്‍', 'ൿ']] # Conversion to atomic chillu\n",
    "removepunctuation = [['\\u200c', ''], ['\\u200d', ''], ['?',''], ['.',''], ['!',''], [',',''], [':','']] # Remove zwj, zwnj, punctuations"
   ]
  },
  {
   "cell_type": "code",
   "execution_count": 4,
   "metadata": {
    "execution": {
     "iopub.execute_input": "2020-08-22T04:11:52.551971Z",
     "iopub.status.busy": "2020-08-22T04:11:52.551207Z",
     "iopub.status.idle": "2020-08-22T04:11:52.554583Z",
     "shell.execute_reply": "2020-08-22T04:11:52.553837Z"
    },
    "papermill": {
     "duration": 0.152642,
     "end_time": "2020-08-22T04:11:52.554717",
     "exception": false,
     "start_time": "2020-08-22T04:11:52.402075",
     "status": "completed"
    },
    "tags": []
   },
   "outputs": [],
   "source": [
    "normalized_sentencelist=[]\n",
    "for sentence in sentence_list:\n",
    "    for sublist in normalizesubstring:\n",
    "        sentence=sentence.replace(sublist[0], sublist[1])\n",
    "    for remlist in removepunctuation:\n",
    "        sentence=sentence.replace(remlist[0], remlist[1])\n",
    "    normalized_sentencelist.append(sentence)"
   ]
  },
  {
   "cell_type": "markdown",
   "metadata": {
    "papermill": {
     "duration": 0.14043,
     "end_time": "2020-08-22T04:11:58.441448",
     "exception": false,
     "start_time": "2020-08-22T04:11:58.301018",
     "status": "completed"
    },
    "tags": []
   },
   "source": [
    "## Sentence Count: Total and Unique"
   ]
  },
  {
   "cell_type": "code",
   "execution_count": 5,
   "metadata": {
    "execution": {
     "iopub.execute_input": "2020-08-22T04:11:52.878834Z",
     "iopub.status.busy": "2020-08-22T04:11:52.877945Z",
     "iopub.status.idle": "2020-08-22T04:11:52.882235Z",
     "shell.execute_reply": "2020-08-22T04:11:52.881433Z"
    },
    "papermill": {
     "duration": 0.155203,
     "end_time": "2020-08-22T04:11:52.882366",
     "exception": false,
     "start_time": "2020-08-22T04:11:52.727163",
     "status": "completed"
    },
    "tags": []
   },
   "outputs": [
    {
     "name": "stdout",
     "output_type": "stream",
     "text": [
      "Number of sentences: 1541\n",
      "Number of unique sentences: 482\n"
     ]
    }
   ],
   "source": [
    "print('Number of sentences:', len(normalized_sentencelist))\n",
    "print('Number of unique sentences:', len(set(normalized_sentencelist)))"
   ]
  },
  {
   "cell_type": "markdown",
   "metadata": {
    "papermill": {
     "duration": 0.14043,
     "end_time": "2020-08-22T04:11:58.441448",
     "exception": false,
     "start_time": "2020-08-22T04:11:58.301018",
     "status": "completed"
    },
    "tags": []
   },
   "source": [
    "## Word Count: Total and Unique"
   ]
  },
  {
   "cell_type": "code",
   "execution_count": 6,
   "metadata": {
    "execution": {
     "iopub.execute_input": "2020-08-22T04:11:53.183519Z",
     "iopub.status.busy": "2020-08-22T04:11:53.182625Z",
     "iopub.status.idle": "2020-08-22T04:11:53.187338Z",
     "shell.execute_reply": "2020-08-22T04:11:53.186097Z"
    },
    "papermill": {
     "duration": 0.15376,
     "end_time": "2020-08-22T04:11:53.187465",
     "exception": false,
     "start_time": "2020-08-22T04:11:53.033705",
     "status": "completed"
    },
    "tags": []
   },
   "outputs": [
    {
     "name": "stdout",
     "output_type": "stream",
     "text": [
      "Number of words: 5764\n",
      "Number of unique words: 1400\n"
     ]
    }
   ],
   "source": [
    "def getwords(sentencelist): \n",
    "    return ' '.join(sentencelist).split() \n",
    "word_list = getwords(normalized_sentencelist)\n",
    "print('Number of words:', len(word_list))\n",
    "print('Number of unique words:', len(set(word_list)))"
   ]
  },
  {
   "cell_type": "markdown",
   "metadata": {
    "papermill": {
     "duration": 0.14043,
     "end_time": "2020-08-22T04:11:58.441448",
     "exception": false,
     "start_time": "2020-08-22T04:11:58.301018",
     "status": "completed"
    },
    "tags": []
   },
   "source": [
    "## Syllable Count: Total and Unique"
   ]
  },
  {
   "cell_type": "code",
   "execution_count": 7,
   "metadata": {
    "execution": {
     "iopub.execute_input": "2020-08-22T04:11:53.466555Z",
     "iopub.status.busy": "2020-08-22T04:11:53.465829Z",
     "iopub.status.idle": "2020-08-22T04:11:53.657300Z",
     "shell.execute_reply": "2020-08-22T04:11:53.658379Z"
    },
    "papermill": {
     "duration": 0.337738,
     "end_time": "2020-08-22T04:11:53.658591",
     "exception": false,
     "start_time": "2020-08-22T04:11:53.320853",
     "status": "completed"
    },
    "tags": []
   },
   "outputs": [
    {
     "name": "stdout",
     "output_type": "stream",
     "text": [
      "Number of syllables: 19806\n",
      "Number of unique syllables: 553\n"
     ]
    }
   ],
   "source": [
    "def getsyllables(wordlist):\n",
    "    syl = Syllablizer()\n",
    "    syllables=''\n",
    "    for word in wordlist:\n",
    "        syllables= syllables + ' '.join(syl.syllablize(word))+' '\n",
    "    return(syllables.split())\n",
    "syllable_list = getsyllables(word_list)\n",
    "print('Number of syllables:', len(syllable_list))\n",
    "print('Number of unique syllables:', len(set(syllable_list)))"
   ]
  },
  {
   "cell_type": "markdown",
   "metadata": {
    "papermill": {
     "duration": 0.14043,
     "end_time": "2020-08-22T04:11:58.441448",
     "exception": false,
     "start_time": "2020-08-22T04:11:58.301018",
     "status": "completed"
    },
    "tags": []
   },
   "source": [
    "## Phoneme Count: Total and Unique"
   ]
  },
  {
   "cell_type": "code",
   "execution_count": 8,
   "metadata": {
    "execution": {
     "iopub.execute_input": "2020-08-22T04:11:53.977002Z",
     "iopub.status.busy": "2020-08-22T04:11:53.974290Z",
     "iopub.status.idle": "2020-08-22T04:11:55.284899Z",
     "shell.execute_reply": "2020-08-22T04:11:55.284165Z"
    },
    "papermill": {
     "duration": 1.489271,
     "end_time": "2020-08-22T04:11:55.285041",
     "exception": false,
     "start_time": "2020-08-22T04:11:53.795770",
     "status": "completed"
    },
    "tags": []
   },
   "outputs": [
    {
     "name": "stdout",
     "output_type": "stream",
     "text": [
      "Number of phonemes: 43620\n",
      "Number of unique phonemes: 48\n"
     ]
    }
   ],
   "source": [
    "g2p = G2P()\n",
    "def getphonemes(syllablelist):\n",
    "    phoneme_list=''\n",
    "    for syllable in syllablelist:\n",
    "        analysis = g2p.analyse(syllable)\n",
    "        for item in analysis:\n",
    "            phonemes = getPhonemelist(item[0])\n",
    "        phoneme_list= phoneme_list+' '+ phonemes\n",
    "    phoneme_list = phoneme_list.split()\n",
    "    return(phoneme_list)  \n",
    "phoneme_list = getphonemes(syllable_list)\n",
    "print('Number of phonemes:', len(phoneme_list))\n",
    "print('Number of unique phonemes:', len(set(phoneme_list)))"
   ]
  },
  {
   "cell_type": "markdown",
   "metadata": {
    "papermill": {
     "duration": 0.14043,
     "end_time": "2020-08-22T04:11:58.441448",
     "exception": false,
     "start_time": "2020-08-22T04:11:58.301018",
     "status": "completed"
    },
    "tags": []
   },
   "source": [
    "## Analysing phonetic richness of the speech corpus"
   ]
  },
  {
   "cell_type": "code",
   "execution_count": 9,
   "metadata": {
    "execution": {
     "iopub.execute_input": "2020-08-22T04:11:55.562856Z",
     "iopub.status.busy": "2020-08-22T04:11:55.562105Z",
     "iopub.status.idle": "2020-08-22T04:11:56.227430Z",
     "shell.execute_reply": "2020-08-22T04:11:56.228227Z"
    },
    "papermill": {
     "duration": 0.808201,
     "end_time": "2020-08-22T04:11:56.228438",
     "exception": false,
     "start_time": "2020-08-22T04:11:55.420237",
     "status": "completed"
    },
    "tags": []
   },
   "outputs": [
    {
     "data": {
      "image/png": "[encoded data removed]",
      "text/plain": [
       "<Figure size 2160x1080 with 1 Axes>"
      ]
     },
     "metadata": {
      "needs_background": "light"
     },
     "output_type": "display_data"
    }
   ],
   "source": [
    "fig = plt.figure(figsize=[30,15])\n",
    "phoneme_frequency = pd.Series(phoneme_list).value_counts(normalize=True) * 100\n",
    "phoneme_frequency.plot.bar(fontsize=20)\n",
    "plt.xlabel(\"Phoneme\",fontsize=16)\n",
    "plt.ylabel(\"Relative Frequency(%)\", fontsize=16)\n",
    "plt.grid()"
   ]
  },
  {
   "cell_type": "markdown",
   "metadata": {
    "papermill": {
     "duration": 0.135468,
     "end_time": "2020-08-22T04:11:56.503699",
     "exception": false,
     "start_time": "2020-08-22T04:11:56.368231",
     "status": "completed"
    },
    "tags": []
   },
   "source": [
    "## Sentence category on all recordings"
   ]
  },
  {
   "cell_type": "code",
   "execution_count": 10,
   "metadata": {
    "execution": {
     "iopub.execute_input": "2020-08-22T04:11:56.790388Z",
     "iopub.status.busy": "2020-08-22T04:11:56.789341Z",
     "iopub.status.idle": "2020-08-22T04:11:56.882405Z",
     "shell.execute_reply": "2020-08-22T04:11:56.881324Z"
    },
    "papermill": {
     "duration": 0.242549,
     "end_time": "2020-08-22T04:11:56.882601",
     "exception": false,
     "start_time": "2020-08-22T04:11:56.640052",
     "status": "completed"
    },
    "tags": []
   },
   "outputs": [
    {
     "data": {
      "text/plain": [
       "Text(0.5, 1.12, 'Sentence Categories')"
      ]
     },
     "execution_count": 10,
     "metadata": {},
     "output_type": "execute_result"
    },
    {
     "data": {
      "image/png": "[encoded data removed]",
      "text/plain": [
       "<Figure size 432x288 with 1 Axes>"
      ]
     },
     "metadata": {},
     "output_type": "display_data"
    }
   ],
   "source": [
    "category_count = df.category.value_counts()\n",
    "# value = df.category.value_counts().tolist()\n",
    "# print(category_count)\n",
    "category_count.plot(kind='pie', radius=1.4, fontsize=15,labeldistance=1.2, autopct='%1.1f%%')\n",
    "plt.ylabel('')\n",
    "plt.suptitle('Sentence Categories', size=16, y=1.12)"
   ]
  },
  {
   "cell_type": "markdown",
   "metadata": {
    "papermill": {
     "duration": 0.185854,
     "end_time": "2020-08-22T04:11:57.311078",
     "exception": false,
     "start_time": "2020-08-22T04:11:57.125224",
     "status": "completed"
    },
    "tags": []
   },
   "source": [
    "## Speech demography "
   ]
  },
  {
   "cell_type": "code",
   "execution_count": 11,
   "metadata": {
    "execution": {
     "iopub.execute_input": "2020-08-22T04:11:57.603181Z",
     "iopub.status.busy": "2020-08-22T04:11:57.602101Z",
     "iopub.status.idle": "2020-08-22T04:11:57.656436Z",
     "shell.execute_reply": "2020-08-22T04:11:57.655444Z"
    },
    "papermill": {
     "duration": 0.208452,
     "end_time": "2020-08-22T04:11:57.656628",
     "exception": false,
     "start_time": "2020-08-22T04:11:57.448176",
     "status": "completed"
    },
    "tags": []
   },
   "outputs": [
    {
     "name": "stdout",
     "output_type": "stream",
     "text": [
      "Male       678\n",
      "default    551\n",
      "Female     312\n",
      "Name: speaker_gender, dtype: int64\n"
     ]
    },
    {
     "data": {
      "text/plain": [
       "Text(0.5, 1.12, 'Gender Diversity in Speech Corpus')"
      ]
     },
     "execution_count": 11,
     "metadata": {},
     "output_type": "execute_result"
    },
    {
     "data": {
      "image/png": "[encoded data removed]",
      "text/plain": [
       "<Figure size 432x288 with 1 Axes>"
      ]
     },
     "metadata": {},
     "output_type": "display_data"
    }
   ],
   "source": [
    "gender_count = df.speaker_gender.value_counts()\n",
    "print(gender_count)\n",
    "gender_count.plot(kind='pie',startangle=90, radius=1.4, fontsize=14, autopct='%1.1f%%')\n",
    "plt.ylabel('')\n",
    "plt.suptitle('Gender Diversity in Speech Corpus', size=16, y=1.12)"
   ]
  },
  {
   "cell_type": "code",
   "execution_count": 12,
   "metadata": {
    "execution": {
     "iopub.execute_input": "2020-08-22T04:11:57.969724Z",
     "iopub.status.busy": "2020-08-22T04:11:57.962467Z",
     "iopub.status.idle": "2020-08-22T04:11:58.156918Z",
     "shell.execute_reply": "2020-08-22T04:11:58.156149Z"
    },
    "papermill": {
     "duration": 0.348085,
     "end_time": "2020-08-22T04:11:58.157066",
     "exception": false,
     "start_time": "2020-08-22T04:11:57.808981",
     "status": "completed"
    },
    "tags": []
   },
   "outputs": [
    {
     "name": "stdout",
     "output_type": "stream",
     "text": [
      "30-40      843\n",
      "default    551\n",
      "20-30       96\n",
      "50-60       51\n",
      "Name: speaker_age, dtype: int64\n"
     ]
    },
    {
     "data": {
      "text/plain": [
       "Text(0.5, 1.12, 'Age Diversity in Speech Corpus')"
      ]
     },
     "execution_count": 12,
     "metadata": {},
     "output_type": "execute_result"
    },
    {
     "data": {
      "image/png": "[encoded data removed]",
      "text/plain": [
       "<Figure size 432x288 with 1 Axes>"
      ]
     },
     "metadata": {},
     "output_type": "display_data"
    }
   ],
   "source": [
    "agegroup_count = df.speaker_age.value_counts()\n",
    "print(agegroup_count)\n",
    "agegroup_count.plot(kind='pie',startangle=90, radius=1.5, fontsize=12, autopct='%1.1f%%')\n",
    "plt.ylabel('')\n",
    "plt.suptitle('Age Diversity in Speech Corpus', size=16, y=1.12)"
   ]
  },
  {
   "cell_type": "markdown",
   "metadata": {
    "papermill": {
     "duration": 0.14043,
     "end_time": "2020-08-22T04:11:58.441448",
     "exception": false,
     "start_time": "2020-08-22T04:11:58.301018",
     "status": "completed"
    },
    "tags": []
   },
   "source": [
    "# Number of speech samples recorded by each user"
   ]
  },
  {
   "cell_type": "code",
   "execution_count": 13,
   "metadata": {
    "execution": {
     "iopub.execute_input": "2020-08-22T04:11:58.732413Z",
     "iopub.status.busy": "2020-08-22T04:11:58.730728Z",
     "iopub.status.idle": "2020-08-22T04:11:58.936438Z",
     "shell.execute_reply": "2020-08-22T04:11:58.935720Z"
    },
    "papermill": {
     "duration": 0.35881,
     "end_time": "2020-08-22T04:11:58.936600",
     "exception": false,
     "start_time": "2020-08-22T04:11:58.577790",
     "status": "completed"
    },
    "tags": []
   },
   "outputs": [
    {
     "data": {
      "image/png": "[encoded data removed]",
      "text/plain": [
       "<Figure size 720x360 with 1 Axes>"
      ]
     },
     "metadata": {
      "needs_background": "light"
     },
     "output_type": "display_data"
    }
   ],
   "source": [
    "fig = plt.figure(figsize=[10,5])\n",
    "df.speaker_id.value_counts()[:10].plot(kind='bar')\n",
    "plt.xlabel(\"Speaker_id\", fontsize=14)\n",
    "plt.ylabel(\"Number of speech samples\", fontsize=14)\n",
    "plt.title(\"Top 10 speech contributors\")\n",
    "plt.grid()"
   ]
  },
  {
   "cell_type": "code",
   "execution_count": 14,
   "metadata": {
    "execution": {
     "iopub.execute_input": "2020-08-22T04:11:59.237940Z",
     "iopub.status.busy": "2020-08-22T04:11:59.237166Z",
     "iopub.status.idle": "2020-08-22T04:16:30.858053Z",
     "shell.execute_reply": "2020-08-22T04:16:30.858881Z"
    },
    "papermill": {
     "duration": 271.785148,
     "end_time": "2020-08-22T04:16:30.859114",
     "exception": false,
     "start_time": "2020-08-22T04:11:59.073966",
     "status": "completed"
    },
    "tags": []
   },
   "outputs": [
    {
     "name": "stdout",
     "output_type": "stream",
     "text": [
      "CPU times: user 4min 21s, sys: 840 ms, total: 4min 22s\n",
      "Wall time: 4min 28s\n"
     ]
    }
   ],
   "source": [
    "%%time\n",
    "sum = 0\n",
    "filenames = os.listdir('../audio/')\n",
    "for f in filenames:\n",
    "    y, sr = librosa.load(os.path.join('../audio/', f))\n",
    "    sum = sum + librosa.get_duration(y=y, sr=sr)"
   ]
  },
  {
   "cell_type": "markdown",
   "metadata": {
    "papermill": {
     "duration": 0.14043,
     "end_time": "2020-08-22T04:11:58.441448",
     "exception": false,
     "start_time": "2020-08-22T04:11:58.301018",
     "status": "completed"
    },
    "tags": []
   },
   "source": [
    "# Speech corpus size (duration of recordings)"
   ]
  },
  {
   "cell_type": "code",
   "execution_count": 15,
   "metadata": {
    "execution": {
     "iopub.execute_input": "2020-08-22T04:16:31.138518Z",
     "iopub.status.busy": "2020-08-22T04:16:31.137798Z",
     "iopub.status.idle": "2020-08-22T04:16:31.142177Z",
     "shell.execute_reply": "2020-08-22T04:16:31.141520Z"
    },
    "papermill": {
     "duration": 0.146589,
     "end_time": "2020-08-22T04:16:31.142308",
     "exception": false,
     "start_time": "2020-08-22T04:16:30.995719",
     "status": "completed"
    },
    "tags": []
   },
   "outputs": [
    {
     "name": "stdout",
     "output_type": "stream",
     "text": [
      "Total duration of corpus in hours is 1 hour 38 minutes 16 seconds\n",
      "Average duration of sound clips(s) :  3.83 seconds\n"
     ]
    }
   ],
   "source": [
    "total_hours = sum//3600\n",
    "remaining_minutes=(sum%3600)//60\n",
    "remaining_seconds=sum%60\n",
    "print(\"Total duration of corpus in hours is\", int(total_hours),\"hour\",int(remaining_minutes),\"minutes\", int(remaining_seconds),\"seconds\")\n",
    "size = df.shape[0]\n",
    "print(\"Average duration of sound clips(s) : \", round(sum/size,2) , \"seconds\")"
   ]
  }
 ],
 "metadata": {
  "kernelspec": {
   "display_name": "msc_venv",
   "language": "python",
   "name": "msc_venv"
  },
  "language_info": {
   "codemirror_mode": {
    "name": "ipython",
    "version": 3
   },
   "file_extension": ".py",
   "mimetype": "text/x-python",
   "name": "python",
   "nbconvert_exporter": "python",
   "pygments_lexer": "ipython3",
   "version": "3.7.7"
  },
  "papermill": {
   "duration": 340.944682,
   "end_time": "2020-08-22T04:16:31.699276",
   "environment_variables": {},
   "exception": null,
   "input_path": "__notebook__.ipynb",
   "output_path": "__notebook__.ipynb",
   "parameters": {},
   "start_time": "2020-08-22T04:10:50.754594",
   "version": "2.1.0"
  }
 },
 "nbformat": 4,
 "nbformat_minor": 4
}
